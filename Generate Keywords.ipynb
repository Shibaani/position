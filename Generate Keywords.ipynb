{
 "cells": [
  {
   "cell_type": "code",
   "execution_count": 1,
   "metadata": {},
   "outputs": [],
   "source": [
    "import json\n",
    "import numpy as np\n",
    "import pandas as pd"
   ]
  },
  {
   "cell_type": "code",
   "execution_count": 6,
   "metadata": {},
   "outputs": [],
   "source": [
    "page = \"page1\""
   ]
  },
  {
   "cell_type": "code",
   "execution_count": 7,
   "metadata": {},
   "outputs": [
    {
     "data": {
      "text/html": [
       "<div>\n",
       "<style scoped>\n",
       "    .dataframe tbody tr th:only-of-type {\n",
       "        vertical-align: middle;\n",
       "    }\n",
       "\n",
       "    .dataframe tbody tr th {\n",
       "        vertical-align: top;\n",
       "    }\n",
       "\n",
       "    .dataframe thead th {\n",
       "        text-align: right;\n",
       "    }\n",
       "</style>\n",
       "<table border=\"1\" class=\"dataframe\">\n",
       "  <thead>\n",
       "    <tr style=\"text-align: right;\">\n",
       "      <th></th>\n",
       "      <th>keyword</th>\n",
       "    </tr>\n",
       "  </thead>\n",
       "  <tbody>\n",
       "    <tr>\n",
       "      <td>0</td>\n",
       "      <td>Full name</td>\n",
       "    </tr>\n",
       "    <tr>\n",
       "      <td>1</td>\n",
       "      <td>Nationality 1</td>\n",
       "    </tr>\n",
       "    <tr>\n",
       "      <td>2</td>\n",
       "      <td>Identity document</td>\n",
       "    </tr>\n",
       "    <tr>\n",
       "      <td>3</td>\n",
       "      <td>Passport</td>\n",
       "    </tr>\n",
       "    <tr>\n",
       "      <td>4</td>\n",
       "      <td>National ID</td>\n",
       "    </tr>\n",
       "  </tbody>\n",
       "</table>\n",
       "</div>"
      ],
      "text/plain": [
       "             keyword\n",
       "0          Full name\n",
       "1      Nationality 1\n",
       "2  Identity document\n",
       "3           Passport\n",
       "4        National ID"
      ]
     },
     "execution_count": 7,
     "metadata": {},
     "output_type": "execute_result"
    }
   ],
   "source": [
    "df = pd.read_excel('Keywords Excel/'+page+'.xlsx')\n",
    "df.head()"
   ]
  },
  {
   "cell_type": "code",
   "execution_count": 8,
   "metadata": {},
   "outputs": [
    {
     "data": {
      "text/plain": [
       "(61, 1)"
      ]
     },
     "execution_count": 8,
     "metadata": {},
     "output_type": "execute_result"
    }
   ],
   "source": [
    "df.shape"
   ]
  },
  {
   "cell_type": "code",
   "execution_count": 9,
   "metadata": {},
   "outputs": [],
   "source": [
    "keywords = df.keyword.values.tolist()"
   ]
  },
  {
   "cell_type": "code",
   "execution_count": 10,
   "metadata": {},
   "outputs": [],
   "source": [
    "records = {}\n",
    "records[\"keywords\"] = [] "
   ]
  },
  {
   "cell_type": "code",
   "execution_count": 11,
   "metadata": {},
   "outputs": [],
   "source": [
    "for data in keywords:\n",
    "    records[\"keywords\"].append({\n",
    "        \"word\": data,\n",
    "    })"
   ]
  },
  {
   "cell_type": "code",
   "execution_count": 12,
   "metadata": {},
   "outputs": [
    {
     "data": {
      "text/plain": [
       "{'keywords': [{'word': 'Full name'},\n",
       "  {'word': 'Nationality 1'},\n",
       "  {'word': 'Identity document'},\n",
       "  {'word': 'Passport'},\n",
       "  {'word': 'National ID'},\n",
       "  {'word': 'Nationality 2 (if dual)'},\n",
       "  {'word': 'Passport / National ID'},\n",
       "  {'word': 'Date of birth'},\n",
       "  {'word': 'KRA Pin No.'},\n",
       "  {'word': 'Gender'},\n",
       "  {'word': 'Male'},\n",
       "  {'word': 'Female'},\n",
       "  {'word': 'Marital status'},\n",
       "  {'word': 'Married'},\n",
       "  {'word': 'Single'},\n",
       "  {'word': 'Other'},\n",
       "  {'word': 'Education'},\n",
       "  {'word': 'High School'},\n",
       "  {'word': 'Diploma'},\n",
       "  {'word': 'Undergraduate'},\n",
       "  {'word': 'Post-graduate'},\n",
       "  {'word': 'Other'},\n",
       "  {'word': 'Telephone (Mobile)'},\n",
       "  {'word': 'Telephone (Office)'},\n",
       "  {'word': 'Preferred email address (Mandatory)'},\n",
       "  {'word': 'Mailing address'},\n",
       "  {'word': 'Type of residence'},\n",
       "  {'word': 'Self-owned'},\n",
       "  {'word': 'Rented'},\n",
       "  {'word': 'Company provided'},\n",
       "  {'word': 'Other'},\n",
       "  {'word': 'Physical Residential address'},\n",
       "  {'word': 'Preferred Delivery address'},\n",
       "  {'word': 'Mailing address'},\n",
       "  {'word': 'Residential Address'},\n",
       "  {'word': 'Employee’s Address'},\n",
       "  {'word': 'Nature of employment'},\n",
       "  {'word': 'Salaried'},\n",
       "  {'word': 'Self-employed'},\n",
       "  {'word': 'Employment terms'},\n",
       "  {'word': 'Permanent'},\n",
       "  {'word': 'Contract'},\n",
       "  {'word': 'Others'},\n",
       "  {'word': 'Name of employer / business'},\n",
       "  {'word': 'Occupation / designation'},\n",
       "  {'word': 'Employment / staff number'},\n",
       "  {'word': 'Contact at employer'},\n",
       "  {'word': 'Contract tenure'},\n",
       "  {'word': 'Contract expiry'},\n",
       "  {'word': 'Duration at current organisation'},\n",
       "  {'word': 'Years'},\n",
       "  {'word': 'Months'},\n",
       "  {'word': 'Salary receipt date'},\n",
       "  {'word': 'Monthly gross income'},\n",
       "  {'word': 'Rental income'},\n",
       "  {'word': 'Address of employer (for salaried employees) / Address of business (for self-employed)'},\n",
       "  {'word': 'Account with Standard Chartered Bank (if applicable)'},\n",
       "  {'word': 'Borrowing details'},\n",
       "  {'word': 'Bank Name'},\n",
       "  {'word': 'Original Loan Amount'},\n",
       "  {'word': 'Monthly loan instalment'}]}"
      ]
     },
     "execution_count": 12,
     "metadata": {},
     "output_type": "execute_result"
    }
   ],
   "source": [
    "records"
   ]
  },
  {
   "cell_type": "code",
   "execution_count": 13,
   "metadata": {},
   "outputs": [],
   "source": [
    "with open('corrdinate_detection\\\\raw_keywords\\\\'+page+'.json', 'w') as json_file:\n",
    "    json.dump(records, json_file)"
   ]
  },
  {
   "cell_type": "code",
   "execution_count": null,
   "metadata": {},
   "outputs": [],
   "source": []
  },
  {
   "cell_type": "code",
   "execution_count": null,
   "metadata": {},
   "outputs": [],
   "source": []
  },
  {
   "cell_type": "code",
   "execution_count": null,
   "metadata": {},
   "outputs": [],
   "source": []
  },
  {
   "cell_type": "code",
   "execution_count": 14,
   "metadata": {},
   "outputs": [
    {
     "data": {
      "text/html": [
       "<div>\n",
       "<style scoped>\n",
       "    .dataframe tbody tr th:only-of-type {\n",
       "        vertical-align: middle;\n",
       "    }\n",
       "\n",
       "    .dataframe tbody tr th {\n",
       "        vertical-align: top;\n",
       "    }\n",
       "\n",
       "    .dataframe thead th {\n",
       "        text-align: right;\n",
       "    }\n",
       "</style>\n",
       "<table border=\"1\" class=\"dataframe\">\n",
       "  <thead>\n",
       "    <tr style=\"text-align: right;\">\n",
       "      <th></th>\n",
       "      <th>keyword</th>\n",
       "      <th>keyword_x</th>\n",
       "      <th>keyword_y</th>\n",
       "    </tr>\n",
       "  </thead>\n",
       "  <tbody>\n",
       "    <tr>\n",
       "      <td>0</td>\n",
       "      <td>Full name</td>\n",
       "      <td>108</td>\n",
       "      <td>202</td>\n",
       "    </tr>\n",
       "    <tr>\n",
       "      <td>1</td>\n",
       "      <td>Passport</td>\n",
       "      <td>1235</td>\n",
       "      <td>314</td>\n",
       "    </tr>\n",
       "    <tr>\n",
       "      <td>2</td>\n",
       "      <td>National ID</td>\n",
       "      <td>1433</td>\n",
       "      <td>314</td>\n",
       "    </tr>\n",
       "    <tr>\n",
       "      <td>3</td>\n",
       "      <td>Nationality 1</td>\n",
       "      <td>107</td>\n",
       "      <td>317</td>\n",
       "    </tr>\n",
       "    <tr>\n",
       "      <td>4</td>\n",
       "      <td>Identity document</td>\n",
       "      <td>942</td>\n",
       "      <td>317</td>\n",
       "    </tr>\n",
       "  </tbody>\n",
       "</table>\n",
       "</div>"
      ],
      "text/plain": [
       "             keyword  keyword_x  keyword_y\n",
       "0          Full name        108        202\n",
       "1           Passport       1235        314\n",
       "2        National ID       1433        314\n",
       "3      Nationality 1        107        317\n",
       "4  Identity document        942        317"
      ]
     },
     "execution_count": 14,
     "metadata": {},
     "output_type": "execute_result"
    }
   ],
   "source": [
    "px_df = pd.read_json(\"Keywords JSON\\\\\"+page+\".json\")\n",
    "px_df.head()"
   ]
  },
  {
   "cell_type": "code",
   "execution_count": 16,
   "metadata": {},
   "outputs": [],
   "source": [
    "px_df.to_excel(\"Keywords Record\\\\\"+page+\".xlsx\")"
   ]
  },
  {
   "cell_type": "code",
   "execution_count": null,
   "metadata": {},
   "outputs": [],
   "source": []
  },
  {
   "cell_type": "code",
   "execution_count": null,
   "metadata": {},
   "outputs": [],
   "source": []
  },
  {
   "cell_type": "code",
   "execution_count": null,
   "metadata": {},
   "outputs": [],
   "source": []
  },
  {
   "cell_type": "code",
   "execution_count": 114,
   "metadata": {},
   "outputs": [],
   "source": [
    "rs_df = pd.read_excel(\"Keywords Record\\\\\"+page+\".xlsx\")"
   ]
  },
  {
   "cell_type": "code",
   "execution_count": 115,
   "metadata": {},
   "outputs": [
    {
     "data": {
      "text/html": [
       "<div>\n",
       "<style scoped>\n",
       "    .dataframe tbody tr th:only-of-type {\n",
       "        vertical-align: middle;\n",
       "    }\n",
       "\n",
       "    .dataframe tbody tr th {\n",
       "        vertical-align: top;\n",
       "    }\n",
       "\n",
       "    .dataframe thead th {\n",
       "        text-align: right;\n",
       "    }\n",
       "</style>\n",
       "<table border=\"1\" class=\"dataframe\">\n",
       "  <thead>\n",
       "    <tr style=\"text-align: right;\">\n",
       "      <th></th>\n",
       "      <th>Unnamed: 0</th>\n",
       "      <th>keyword</th>\n",
       "      <th>keyword_x</th>\n",
       "      <th>keyword_y</th>\n",
       "      <th>val_x</th>\n",
       "      <th>val_y</th>\n",
       "      <th>val_xx</th>\n",
       "      <th>val_yx</th>\n",
       "      <th>x_diff</th>\n",
       "      <th>y_diff</th>\n",
       "      <th>w</th>\n",
       "      <th>h</th>\n",
       "    </tr>\n",
       "  </thead>\n",
       "  <tbody>\n",
       "    <tr>\n",
       "      <td>0</td>\n",
       "      <td>0.0</td>\n",
       "      <td>Full name</td>\n",
       "      <td>108</td>\n",
       "      <td>202</td>\n",
       "      <td>113.0</td>\n",
       "      <td>238.0</td>\n",
       "      <td>1728.0</td>\n",
       "      <td>291.0</td>\n",
       "      <td>5</td>\n",
       "      <td>36</td>\n",
       "      <td>1615</td>\n",
       "      <td>53</td>\n",
       "    </tr>\n",
       "    <tr>\n",
       "      <td>1</td>\n",
       "      <td>1.0</td>\n",
       "      <td>Passport</td>\n",
       "      <td>1235</td>\n",
       "      <td>314</td>\n",
       "      <td>1240.0</td>\n",
       "      <td>319.0</td>\n",
       "      <td>1265.0</td>\n",
       "      <td>344.0</td>\n",
       "      <td>5</td>\n",
       "      <td>5</td>\n",
       "      <td>25</td>\n",
       "      <td>25</td>\n",
       "    </tr>\n",
       "    <tr>\n",
       "      <td>2</td>\n",
       "      <td>2.0</td>\n",
       "      <td>National ID</td>\n",
       "      <td>1433</td>\n",
       "      <td>314</td>\n",
       "      <td>1438.0</td>\n",
       "      <td>319.0</td>\n",
       "      <td>1463.0</td>\n",
       "      <td>344.0</td>\n",
       "      <td>5</td>\n",
       "      <td>5</td>\n",
       "      <td>25</td>\n",
       "      <td>25</td>\n",
       "    </tr>\n",
       "    <tr>\n",
       "      <td>3</td>\n",
       "      <td>3.0</td>\n",
       "      <td>Nationality 1</td>\n",
       "      <td>107</td>\n",
       "      <td>317</td>\n",
       "      <td>436.0</td>\n",
       "      <td>301.0</td>\n",
       "      <td>868.0</td>\n",
       "      <td>355.0</td>\n",
       "      <td>329</td>\n",
       "      <td>-16</td>\n",
       "      <td>432</td>\n",
       "      <td>54</td>\n",
       "    </tr>\n",
       "    <tr>\n",
       "      <td>4</td>\n",
       "      <td>4.0</td>\n",
       "      <td>Identity document</td>\n",
       "      <td>942</td>\n",
       "      <td>317</td>\n",
       "      <td>NaN</td>\n",
       "      <td>NaN</td>\n",
       "      <td>NaN</td>\n",
       "      <td>NaN</td>\n",
       "      <td>-942</td>\n",
       "      <td>-317</td>\n",
       "      <td>0</td>\n",
       "      <td>0</td>\n",
       "    </tr>\n",
       "  </tbody>\n",
       "</table>\n",
       "</div>"
      ],
      "text/plain": [
       "   Unnamed: 0            keyword  keyword_x  keyword_y   val_x  val_y  val_xx  \\\n",
       "0         0.0          Full name        108        202   113.0  238.0  1728.0   \n",
       "1         1.0           Passport       1235        314  1240.0  319.0  1265.0   \n",
       "2         2.0        National ID       1433        314  1438.0  319.0  1463.0   \n",
       "3         3.0      Nationality 1        107        317   436.0  301.0   868.0   \n",
       "4         4.0  Identity document        942        317     NaN    NaN     NaN   \n",
       "\n",
       "   val_yx  x_diff  y_diff     w   h  \n",
       "0   291.0       5      36  1615  53  \n",
       "1   344.0       5       5    25  25  \n",
       "2   344.0       5       5    25  25  \n",
       "3   355.0     329     -16   432  54  \n",
       "4     NaN    -942    -317     0   0  "
      ]
     },
     "execution_count": 115,
     "metadata": {},
     "output_type": "execute_result"
    }
   ],
   "source": [
    "rs_df.head()"
   ]
  },
  {
   "cell_type": "code",
   "execution_count": 116,
   "metadata": {},
   "outputs": [],
   "source": [
    "rs_df = rs_df.drop(columns=['Unnamed: 0'])"
   ]
  },
  {
   "cell_type": "code",
   "execution_count": 117,
   "metadata": {},
   "outputs": [
    {
     "data": {
      "text/plain": [
       "(66, 11)"
      ]
     },
     "execution_count": 117,
     "metadata": {},
     "output_type": "execute_result"
    }
   ],
   "source": [
    "rs_df.shape"
   ]
  },
  {
   "cell_type": "code",
   "execution_count": 118,
   "metadata": {},
   "outputs": [],
   "source": [
    "rs_df = rs_df.dropna(axis=0, how='any', thresh=None, subset=None, inplace=False)"
   ]
  },
  {
   "cell_type": "code",
   "execution_count": 119,
   "metadata": {},
   "outputs": [
    {
     "data": {
      "text/plain": [
       "(56, 11)"
      ]
     },
     "execution_count": 119,
     "metadata": {},
     "output_type": "execute_result"
    }
   ],
   "source": [
    "rs_df.shape"
   ]
  },
  {
   "cell_type": "code",
   "execution_count": 120,
   "metadata": {},
   "outputs": [],
   "source": [
    "rs_df[['val_x', 'val_y', 'x_diff', 'y_diff', 'w', 'h']] = rs_df[['val_x', 'val_y', 'x_diff', 'y_diff', 'w', 'h']].astype('int32')"
   ]
  },
  {
   "cell_type": "code",
   "execution_count": 121,
   "metadata": {},
   "outputs": [
    {
     "data": {
      "text/html": [
       "<div>\n",
       "<style scoped>\n",
       "    .dataframe tbody tr th:only-of-type {\n",
       "        vertical-align: middle;\n",
       "    }\n",
       "\n",
       "    .dataframe tbody tr th {\n",
       "        vertical-align: top;\n",
       "    }\n",
       "\n",
       "    .dataframe thead th {\n",
       "        text-align: right;\n",
       "    }\n",
       "</style>\n",
       "<table border=\"1\" class=\"dataframe\">\n",
       "  <thead>\n",
       "    <tr style=\"text-align: right;\">\n",
       "      <th></th>\n",
       "      <th>keyword</th>\n",
       "      <th>keyword_x</th>\n",
       "      <th>keyword_y</th>\n",
       "      <th>val_x</th>\n",
       "      <th>val_y</th>\n",
       "      <th>val_xx</th>\n",
       "      <th>val_yx</th>\n",
       "      <th>x_diff</th>\n",
       "      <th>y_diff</th>\n",
       "      <th>w</th>\n",
       "      <th>h</th>\n",
       "    </tr>\n",
       "  </thead>\n",
       "  <tbody>\n",
       "    <tr>\n",
       "      <td>0</td>\n",
       "      <td>Full name</td>\n",
       "      <td>108</td>\n",
       "      <td>202</td>\n",
       "      <td>113</td>\n",
       "      <td>238</td>\n",
       "      <td>1728.0</td>\n",
       "      <td>291.0</td>\n",
       "      <td>5</td>\n",
       "      <td>36</td>\n",
       "      <td>1615</td>\n",
       "      <td>53</td>\n",
       "    </tr>\n",
       "    <tr>\n",
       "      <td>1</td>\n",
       "      <td>Passport</td>\n",
       "      <td>1235</td>\n",
       "      <td>314</td>\n",
       "      <td>1240</td>\n",
       "      <td>319</td>\n",
       "      <td>1265.0</td>\n",
       "      <td>344.0</td>\n",
       "      <td>5</td>\n",
       "      <td>5</td>\n",
       "      <td>25</td>\n",
       "      <td>25</td>\n",
       "    </tr>\n",
       "    <tr>\n",
       "      <td>2</td>\n",
       "      <td>National ID</td>\n",
       "      <td>1433</td>\n",
       "      <td>314</td>\n",
       "      <td>1438</td>\n",
       "      <td>319</td>\n",
       "      <td>1463.0</td>\n",
       "      <td>344.0</td>\n",
       "      <td>5</td>\n",
       "      <td>5</td>\n",
       "      <td>25</td>\n",
       "      <td>25</td>\n",
       "    </tr>\n",
       "    <tr>\n",
       "      <td>3</td>\n",
       "      <td>Nationality 1</td>\n",
       "      <td>107</td>\n",
       "      <td>317</td>\n",
       "      <td>436</td>\n",
       "      <td>301</td>\n",
       "      <td>868.0</td>\n",
       "      <td>355.0</td>\n",
       "      <td>329</td>\n",
       "      <td>-16</td>\n",
       "      <td>432</td>\n",
       "      <td>54</td>\n",
       "    </tr>\n",
       "    <tr>\n",
       "      <td>5</td>\n",
       "      <td>Passport / National ID</td>\n",
       "      <td>942</td>\n",
       "      <td>377</td>\n",
       "      <td>1242</td>\n",
       "      <td>363</td>\n",
       "      <td>1728.0</td>\n",
       "      <td>416.0</td>\n",
       "      <td>300</td>\n",
       "      <td>-14</td>\n",
       "      <td>486</td>\n",
       "      <td>53</td>\n",
       "    </tr>\n",
       "  </tbody>\n",
       "</table>\n",
       "</div>"
      ],
      "text/plain": [
       "                  keyword  keyword_x  keyword_y  val_x  val_y  val_xx  val_yx  \\\n",
       "0               Full name        108        202    113    238  1728.0   291.0   \n",
       "1                Passport       1235        314   1240    319  1265.0   344.0   \n",
       "2             National ID       1433        314   1438    319  1463.0   344.0   \n",
       "3           Nationality 1        107        317    436    301   868.0   355.0   \n",
       "5  Passport / National ID        942        377   1242    363  1728.0   416.0   \n",
       "\n",
       "   x_diff  y_diff     w   h  \n",
       "0       5      36  1615  53  \n",
       "1       5       5    25  25  \n",
       "2       5       5    25  25  \n",
       "3     329     -16   432  54  \n",
       "5     300     -14   486  53  "
      ]
     },
     "execution_count": 121,
     "metadata": {},
     "output_type": "execute_result"
    }
   ],
   "source": [
    "rs_df.head()"
   ]
  },
  {
   "cell_type": "code",
   "execution_count": 122,
   "metadata": {},
   "outputs": [
    {
     "data": {
      "text/html": [
       "<div>\n",
       "<style scoped>\n",
       "    .dataframe tbody tr th:only-of-type {\n",
       "        vertical-align: middle;\n",
       "    }\n",
       "\n",
       "    .dataframe tbody tr th {\n",
       "        vertical-align: top;\n",
       "    }\n",
       "\n",
       "    .dataframe thead th {\n",
       "        text-align: right;\n",
       "    }\n",
       "</style>\n",
       "<table border=\"1\" class=\"dataframe\">\n",
       "  <thead>\n",
       "    <tr style=\"text-align: right;\">\n",
       "      <th></th>\n",
       "      <th>keyword</th>\n",
       "      <th>keyword_x</th>\n",
       "      <th>keyword_y</th>\n",
       "      <th>val_x</th>\n",
       "      <th>val_y</th>\n",
       "      <th>val_xx</th>\n",
       "      <th>val_yx</th>\n",
       "      <th>x_diff</th>\n",
       "      <th>y_diff</th>\n",
       "      <th>w</th>\n",
       "      <th>h</th>\n",
       "    </tr>\n",
       "  </thead>\n",
       "  <tbody>\n",
       "    <tr>\n",
       "      <td>13</td>\n",
       "      <td>Other_martial</td>\n",
       "      <td>1614</td>\n",
       "      <td>514</td>\n",
       "      <td>1619</td>\n",
       "      <td>519</td>\n",
       "      <td>1645.0</td>\n",
       "      <td>543.0</td>\n",
       "      <td>5</td>\n",
       "      <td>5</td>\n",
       "      <td>26</td>\n",
       "      <td>24</td>\n",
       "    </tr>\n",
       "  </tbody>\n",
       "</table>\n",
       "</div>"
      ],
      "text/plain": [
       "          keyword  keyword_x  keyword_y  val_x  val_y  val_xx  val_yx  x_diff  \\\n",
       "13  Other_martial       1614        514   1619    519  1645.0   543.0       5   \n",
       "\n",
       "    y_diff   w   h  \n",
       "13       5  26  24  "
      ]
     },
     "execution_count": 122,
     "metadata": {},
     "output_type": "execute_result"
    }
   ],
   "source": [
    "rs_df[rs_df[\"keyword\"] == \"Other_martial\"]"
   ]
  },
  {
   "cell_type": "code",
   "execution_count": 123,
   "metadata": {},
   "outputs": [],
   "source": [
    "words = rs_df.iloc[:, [0, 3, 4, 7, 8, 9, 10]].values"
   ]
  },
  {
   "cell_type": "code",
   "execution_count": 124,
   "metadata": {},
   "outputs": [],
   "source": [
    "records = {}\n",
    "records[\"keywords\"] = [] "
   ]
  },
  {
   "cell_type": "code",
   "execution_count": 125,
   "metadata": {},
   "outputs": [],
   "source": [
    "for word in words:\n",
    "    records[\"keywords\"].append({\n",
    "        \"word\": word[0],\n",
    "        \"corr\": [word[1], word[2], word[5], word[6]],\n",
    "        \"diff\": [word[3], word[4], word[5], word[6]],\n",
    "        \"processed\": False\n",
    "    })"
   ]
  },
  {
   "cell_type": "code",
   "execution_count": 126,
   "metadata": {},
   "outputs": [
    {
     "name": "stdout",
     "output_type": "stream",
     "text": [
      "{'keywords': [{'word': 'Full name', 'corr': [113, 238, 1615, 53], 'diff': [5, 36, 1615, 53], 'processed': False}, {'word': 'Passport', 'corr': [1240, 319, 25, 25], 'diff': [5, 5, 25, 25], 'processed': False}, {'word': 'National ID', 'corr': [1438, 319, 25, 25], 'diff': [5, 5, 25, 25], 'processed': False}, {'word': 'Nationality 1', 'corr': [436, 301, 432, 54], 'diff': [329, -16, 432, 54], 'processed': False}, {'word': 'Passport / National ID', 'corr': [1242, 363, 486, 53], 'diff': [300, -14, 486, 53], 'processed': False}, {'word': 'Nationality 2 (if dual)', 'corr': [436, 367, 432, 54], 'diff': [329, -16, 432, 54], 'processed': False}, {'word': 'Date of birth', 'corr': [436, 437, 432, 54], 'diff': [331, -12, 432, 54], 'processed': False}, {'word': 'KRA Pin No.', 'corr': [1136, 439, 592, 53], 'diff': [195, -12, 592, 53], 'processed': False}, {'word': 'Male', 'corr': [432, 519, 24, 23], 'diff': [6, 5, 24, 23], 'processed': False}, {'word': 'Female', 'corr': [594, 519, 25, 24], 'diff': [6, 5, 25, 24], 'processed': False}, {'word': 'Married', 'corr': [1236, 518, 25, 25], 'diff': [6, 4, 25, 25], 'processed': False}, {'word': 'Single', 'corr': [1434, 519, 25, 23], 'diff': [6, 5, 25, 23], 'processed': False}, {'word': 'Other_martial', 'corr': [1619, 519, 26, 24], 'diff': [5, 5, 26, 24], 'processed': False}, {'word': 'High School', 'corr': [434, 561, 24, 23], 'diff': [6, 5, 24, 23], 'processed': False}, {'word': 'Diploma', 'corr': [644, 560, 25, 25], 'diff': [6, 4, 25, 25], 'processed': False}, {'word': 'Undergraduate', 'corr': [791, 560, 25, 25], 'diff': [6, 4, 25, 25], 'processed': False}, {'word': 'Ed_post-graduate', 'corr': [1028, 560, 24, 25], 'diff': [1028, 560, 24, 25], 'processed': False}, {'word': 'Ed_others', 'corr': [1237, 560, 25, 25], 'diff': [1237, 560, 25, 25], 'processed': False}, {'word': 'Telephone (Mobile)', 'corr': [542, 701, 539, 54], 'diff': [437, -11, 539, 54], 'processed': False}, {'word': 'Telephone (Office)', 'corr': [542, 765, 754, 53], 'diff': [437, -10, 754, 53], 'processed': False}, {'word': 'Preferred email address (Mandatory)', 'corr': [542, 827, 1184, 53], 'diff': [436, -12, 1184, 53], 'processed': False}, {'word': 'Preferred email address (Mandatory)_2', 'corr': [542, 889, 1184, 53], 'diff': [542, 889, 1184, 53], 'processed': False}, {'word': 'Mailing address', 'corr': [542, 952, 1184, 54], 'diff': [435, -76, 1184, 54], 'processed': False}, {'word': 'Self-owned', 'corr': [542, 1038, 25, 24], 'diff': [5, 5, 25, 24], 'processed': False}, {'word': 'Other', 'corr': [1242, 1037, 25, 24], 'diff': [6, 4, 25, 24], 'processed': False}, {'word': 'Rented', 'corr': [765, 1038, 24, 23], 'diff': [-34, 1, 24, 23], 'processed': False}, {'word': 'Physical Residential address', 'corr': [542, 1088, 1185, 54], 'diff': [435, -12, 1185, 54], 'processed': False}, {'word': 'Physical Residential address_1', 'corr': [542, 1152, 1185, 50], 'diff': [542, 1152, 1185, 50], 'processed': False}, {'word': 'Mailing address_check_box', 'corr': [540, 1222, 24, 24], 'diff': [6, 5, 24, 24], 'processed': False}, {'word': 'Residential Address', 'corr': [864, 1222, 24, 24], 'diff': [6, 5, 24, 24], 'processed': False}, {'word': 'Employee’s Address', 'corr': [1242, 1222, 25, 23], 'diff': [6, 5, 25, 23], 'processed': False}, {'word': 'Salaried', 'corr': [547, 1431, 23, 23], 'diff': [7, 5, 23, 23], 'processed': False}, {'word': 'Self-employed', 'corr': [702, 1431, 24, 23], 'diff': [6, 5, 24, 23], 'processed': False}, {'word': 'Permanent', 'corr': [1257, 1431, 25, 23], 'diff': [6, 5, 25, 23], 'processed': False}, {'word': 'Contract', 'corr': [1444, 1431, 24, 23], 'diff': [6, 5, 24, 23], 'processed': False}, {'word': 'Others_employment_terms', 'corr': [1606, 1431, 24, 23], 'diff': [7, 5, 24, 23], 'processed': False}, {'word': 'Name of employer / business', 'corr': [545, 1486, 1181, 54], 'diff': [438, -6, 1181, 54], 'processed': False}, {'word': 'Occupation / designation', 'corr': [545, 1548, 1181, 53], 'diff': [439, -7, 1181, 53], 'processed': False}, {'word': 'Employment / staff number', 'corr': [545, 1610, 373, 53], 'diff': [438, -8, 373, 53], 'processed': False}, {'word': 'Contact at employer', 'corr': [1295, 1610, 431, 53], 'diff': [328, -8, 431, 53], 'processed': False}, {'word': 'Contract tenure', 'corr': [545, 1671, 373, 53], 'diff': [439, -10, 373, 53], 'processed': False}, {'word': 'Contract expiry', 'corr': [1295, 1671, 430, 53], 'diff': [328, -10, 430, 53], 'processed': False}, {'word': 'Years', 'corr': [545, 1733, 108, 53], 'diff': [-102, 3, 108, 53], 'processed': False}, {'word': 'Months', 'corr': [744, 1734, 107, 52], 'diff': [-101, 4, 107, 52], 'processed': False}, {'word': 'Salary receipt date', 'corr': [1294, 1732, 111, 52], 'diff': [327, -12, 111, 52], 'processed': False}, {'word': 'Monthly gross income', 'corr': [545, 1794, 370, 54], 'diff': [438, -13, 370, 54], 'processed': False}, {'word': 'Rental income', 'corr': [1295, 1794, 431, 52], 'diff': [327, -13, 431, 52], 'processed': False}, {'word': 'Address of employer (for salaried employees) / Address of business (for self-employed)', 'corr': [112, 1929, 1614, 54], 'diff': [7, 59, 1614, 54], 'processed': False}, {'word': 'Address of employer (for salaried employees) / Address of business (for self-employed)_1', 'corr': [112, 1996, 1614, 53], 'diff': [112, 1996, 1614, 53], 'processed': False}, {'word': 'Account with Standard Chartered Bank (if applicable)', 'corr': [865, 2194, 861, 53], 'diff': [760, -8, 861, 53], 'processed': False}, {'word': 'Original Loan Amount', 'corr': [792, 2359, 467, 52], 'diff': [-89, 43, 467, 52], 'processed': False}, {'word': 'Original Loan Amount_1', 'corr': [792, 2412, 467, 52], 'diff': [792, 2412, 467, 52], 'processed': False}, {'word': 'Bank Name', 'corr': [110, 2359, 682, 52], 'diff': [-261, 42, 682, 52], 'processed': False}, {'word': 'Bank Name_1', 'corr': [110, 2412, 682, 52], 'diff': [110, 2412, 682, 52], 'processed': False}, {'word': 'Monthly loan instalment', 'corr': [1258, 2359, 468, 52], 'diff': [-77, 42, 468, 52], 'processed': False}, {'word': 'Monthly loan instalment_1', 'corr': [1258, 2412, 468, 52], 'diff': [1258, 2412, 468, 52], 'processed': False}]}\n"
     ]
    }
   ],
   "source": [
    "print(records)"
   ]
  },
  {
   "cell_type": "code",
   "execution_count": 127,
   "metadata": {},
   "outputs": [],
   "source": [
    "with open('corrdinate_detection\\\\keywords\\\\'+page+'.json', 'w') as json_file:\n",
    "    json.dump(records, json_file)"
   ]
  },
  {
   "cell_type": "code",
   "execution_count": null,
   "metadata": {},
   "outputs": [],
   "source": []
  }
 ],
 "metadata": {
  "kernelspec": {
   "display_name": "Python 3",
   "language": "python",
   "name": "python3"
  },
  "language_info": {
   "codemirror_mode": {
    "name": "ipython",
    "version": 3
   },
   "file_extension": ".py",
   "mimetype": "text/x-python",
   "name": "python",
   "nbconvert_exporter": "python",
   "pygments_lexer": "ipython3",
   "version": "3.7.4"
  }
 },
 "nbformat": 4,
 "nbformat_minor": 2
}
